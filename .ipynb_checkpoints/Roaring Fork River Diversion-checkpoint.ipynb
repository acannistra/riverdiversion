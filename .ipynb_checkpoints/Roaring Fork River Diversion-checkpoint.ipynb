{
 "cells": [
  {
   "cell_type": "markdown",
   "metadata": {},
   "source": [
    "# Roaring Fork Diversion Study\n",
    "\n",
    "\n",
    "The Roaring Fork River in Colorado stretches about 70 miles from Independence Pass, east of Aspen, to Glenwood Springs , where it meets the Colorado River. Though the Roaring Fork Watershed (pictured below) represents only about 1% of the greater Colorado River watershed (~1,400 square miles, about the size of Rhode Island), it is responsible for 11% of the water that flows into Lake Powell via the Colorado. ![Roaring Fork Watershed](http://rmgsc.cr.usgs.gov/asp-bin/cwqdr/RoaringFork/images/RFmap.jpg)\n",
    "\n",
    "Despite this high flow rate, not all of the water that flows into the Roaring Fork watershed ends up in the Colorado River. Tunnels, known as *transmountain diversions*, transfer water from the Western Slope of the Continental Divide to the Eastern Slope, supplying the cities of Leadville and Denver. (For more on this, check out [this article](http://aspenjournalism.org/2011/03/01/draining-the-fork-the-pan-transmountain-diversions/)).\n",
    "\n",
    "[![Transmountain Diversions in Colorado](http://westernriversinstitute.org/wp-content/uploads/2012/12/TBD-map.pdf)](http://westernriversinstitute.org/wp-content/uploads/2012/12/TBD-map.pdf)\n",
    "\n",
    "As seen in the map above, the main diversion tunnel from the Roaring Fork watershed is the Twin Lakes tunnel and reservoir system. I intended to explore the relationship between the rate of flow of the Roaring Fork River and the amount of diversion in the Twin Lakes tunnel. Below is the work that went into producing the plot at the bottom of this article, whic is explained along the way.\n",
    "\n",
    "---\n",
    "\n"
   ]
  },
  {
   "cell_type": "markdown",
   "metadata": {},
   "source": [
    "## Getting the Data\n",
    "\n",
    "Thanks to several organizations, we are able to access flow rate data for not only the Roaring Fork River but also for the Twin Lakes diversion. The United States Geological Survey (USGS) maintains flow rate gauges along all major rivers in the Roaring Fork Valley, and the Colorado Department of Water Resources publishes flow rate information for the diversion tunnels. In the map below, stream gauges are marked in blue, and the tunnel diversions are in yellow. \n"
   ]
  },
  {
   "cell_type": "code",
   "execution_count": 1,
   "metadata": {
    "collapsed": false
   },
   "outputs": [
    {
     "data": {
      "text/html": [
       "\n",
       "        <iframe\n",
       "            width=\"640\"\n",
       "            height=\"480\"\n",
       "            src=\"https://www.google.com/maps/d/embed?mid=zteYjf_pZ-j0.klHGdffc3ZXM&hl=en_US\"\n",
       "            frameborder=\"0\"\n",
       "            allowfullscreen\n",
       "        ></iframe>\n",
       "        "
      ],
      "text/plain": [
       "<IPython.lib.display.IFrame at 0x102894450>"
      ]
     },
     "execution_count": 1,
     "metadata": {},
     "output_type": "execute_result"
    }
   ],
   "source": [
    "from IPython.display import IFrame\n",
    "IFrame(\"https://www.google.com/maps/d/embed?mid=zteYjf_pZ-j0.klHGdffc3ZXM&hl=en_US\", 640, 480)"
   ]
  },
  {
   "cell_type": "markdown",
   "metadata": {},
   "source": [
    "Because I wanted to see the effect of the Twin Lakes Tunnel (data [here](http://www.dwr.state.co.us/SurfaceWater/data/detail_graph.aspx?ID=TWITUNCO)) on the Roaring Fork River, I chose the USGS [stream gauge](http://waterdata.usgs.gov/nwis/uv/?site_no=09073300) at the Difficult Campground, which is the closest gauge to the Twin Lakes tunnel diversion. The following steps use data downloaded from the links above and load it into a Pandas DataFrame object. "
   ]
  },
  {
   "cell_type": "markdown",
   "metadata": {},
   "source": [
    "## Roaring Fork Diversion 2012\n",
    "2012 was an interesting year because it was a drought. Let's start with that. "
   ]
  },
  {
   "cell_type": "code",
   "execution_count": 2,
   "metadata": {
    "collapsed": false
   },
   "outputs": [],
   "source": [
    "import pandas as pd\n",
    "import plotly.plotly as py\n",
    "import plotly.graph_objs as graphobjs\n",
    "import dataparsers\n",
    "\n",
    "testYear = 2012\n",
    "## import 2012 data\n",
    "riverdata = dataparsers.WaterData(\"data/2012/roaring_at_difficult_2012.txt\")\n",
    "tunneldata = dataparsers.WaterData(\"data/2012/twin_lakes_2012.txt\")\n"
   ]
  },
  {
   "cell_type": "markdown",
   "metadata": {
    "collapsed": true
   },
   "source": [
    "The next step is to \"massage\" the data set from its raw downloaded form into one that makes sense to the system. We first index the data by the timestamp, which will allow us to sum them together to calculate the \"natural\" flow. Then we trim the data down to just the right information for processing."
   ]
  },
  {
   "cell_type": "code",
   "execution_count": 3,
   "metadata": {
    "collapsed": false
   },
   "outputs": [],
   "source": [
    "# we have to massage the river and tunnel data to get what we need, also so the data is indexible by time.\n",
    "\n",
    "riverdata.drop_row(0) # contains useless info\n",
    "riverdata.reindex(\"datetime\")\n",
    "\n",
    "tunneldata.reindex(\"Date/Time\")\n"
   ]
  },
  {
   "cell_type": "code",
   "execution_count": 4,
   "metadata": {
    "collapsed": false
   },
   "outputs": [
    {
     "name": "stdout",
     "output_type": "stream",
     "text": [
      "River data columns: ['agency_cd' 'site_no' 'tz_cd' '01_00060' '01_00060_cd']\n",
      "Tunnel data columns: ['Station' 'Date/Time (NA)' 'DISCHRG (cfs) (cfs)' 'PRECIP (inches) (NA)']\n"
     ]
    }
   ],
   "source": [
    "## now, we have too many columns. see:\n",
    "print \"River data columns:\", riverdata.data.columns.values\n",
    "print \"Tunnel data columns:\", tunneldata.data.columns.values"
   ]
  },
  {
   "cell_type": "code",
   "execution_count": 5,
   "metadata": {
    "collapsed": false
   },
   "outputs": [],
   "source": [
    "## We need the \"01_00060\" column, which is discharge (CFS) from the river data. We'll rename it. \n",
    "\n",
    "riverdata.remove_columns([\"agency_cd\", \"site_no\", \"tz_cd\", \"01_00060_cd\"])\n",
    "\n",
    "riverdata.data.columns.values[0] = \"River Discharge (cfs)\""
   ]
  },
  {
   "cell_type": "code",
   "execution_count": 6,
   "metadata": {
    "collapsed": false
   },
   "outputs": [],
   "source": [
    "## The tunnel data is more difficult. The columns are misaligned, which means the \"Date/Time (NA)\" column is \n",
    "## actually the discharge column.\n",
    "\n",
    "tunneldata.data.columns.values[1] = \"Tunnel Discharge (cfs)\"\n",
    "tunneldata.remove_columns([\"Station\", \"PRECIP (inches) (NA)\", \"DISCHRG (cfs) (cfs)\"])\n"
   ]
  },
  {
   "cell_type": "markdown",
   "metadata": {},
   "source": [
    "After messaging the data, notice that all that remains is the discharge value and the timestamp used to index it. "
   ]
  },
  {
   "cell_type": "code",
   "execution_count": 7,
   "metadata": {
    "collapsed": false
   },
   "outputs": [
    {
     "name": "stdout",
     "output_type": "stream",
     "text": [
      "River data columns: ['River Discharge (cfs)']\n",
      "Tunnel data columns: ['Tunnel Discharge (cfs)']\n"
     ]
    },
    {
     "data": {
      "text/html": [
       "<div style=\"max-height:1000px;max-width:1500px;overflow:auto;\">\n",
       "<table border=\"1\" class=\"dataframe\">\n",
       "  <thead>\n",
       "    <tr style=\"text-align: right;\">\n",
       "      <th></th>\n",
       "      <th>River Discharge (cfs)</th>\n",
       "    </tr>\n",
       "  </thead>\n",
       "  <tbody>\n",
       "    <tr>\n",
       "      <th>2012-01-02 00:00:00</th>\n",
       "      <td> 8.5</td>\n",
       "    </tr>\n",
       "    <tr>\n",
       "      <th>2012-01-02 00:15:00</th>\n",
       "      <td> 8.5</td>\n",
       "    </tr>\n",
       "  </tbody>\n",
       "</table>\n",
       "</div>"
      ],
      "text/plain": [
       "                    River Discharge (cfs)\n",
       "2012-01-02 00:00:00                   8.5\n",
       "2012-01-02 00:15:00                   8.5"
      ]
     },
     "execution_count": 7,
     "metadata": {},
     "output_type": "execute_result"
    }
   ],
   "source": [
    "## Now we have:\n",
    "\n",
    "print \"River data columns:\", riverdata.data.columns.values\n",
    "print \"Tunnel data columns:\", tunneldata.data.columns.values\n",
    "\n",
    "riverdata.data.head(2)\n"
   ]
  },
  {
   "cell_type": "code",
   "execution_count": 8,
   "metadata": {
    "collapsed": false
   },
   "outputs": [
    {
     "data": {
      "text/html": [
       "<div style=\"max-height:1000px;max-width:1500px;overflow:auto;\">\n",
       "<table border=\"1\" class=\"dataframe\">\n",
       "  <thead>\n",
       "    <tr style=\"text-align: right;\">\n",
       "      <th></th>\n",
       "      <th>Tunnel Discharge (cfs)</th>\n",
       "    </tr>\n",
       "  </thead>\n",
       "  <tbody>\n",
       "    <tr>\n",
       "      <th>2012-01-01 00:00:00</th>\n",
       "      <td> 4.45</td>\n",
       "    </tr>\n",
       "    <tr>\n",
       "      <th>2012-01-01 00:15:00</th>\n",
       "      <td> 4.45</td>\n",
       "    </tr>\n",
       "  </tbody>\n",
       "</table>\n",
       "</div>"
      ],
      "text/plain": [
       "                    Tunnel Discharge (cfs)\n",
       "2012-01-01 00:00:00                   4.45\n",
       "2012-01-01 00:15:00                   4.45"
      ]
     },
     "execution_count": 8,
     "metadata": {},
     "output_type": "execute_result"
    }
   ],
   "source": [
    "tunneldata.data.head(2)"
   ]
  },
  {
   "cell_type": "markdown",
   "metadata": {},
   "source": [
    "The next step is to merge the data sets so we can calculate the \"natural flow.\""
   ]
  },
  {
   "cell_type": "code",
   "execution_count": 9,
   "metadata": {
    "collapsed": false
   },
   "outputs": [
    {
     "data": {
      "text/html": [
       "<div style=\"max-height:1000px;max-width:1500px;overflow:auto;\">\n",
       "<table border=\"1\" class=\"dataframe\">\n",
       "  <thead>\n",
       "    <tr style=\"text-align: right;\">\n",
       "      <th></th>\n",
       "      <th>River Discharge (cfs)</th>\n",
       "      <th>Tunnel Discharge (cfs)</th>\n",
       "    </tr>\n",
       "  </thead>\n",
       "  <tbody>\n",
       "    <tr>\n",
       "      <th>2012-01-02 00:00:00</th>\n",
       "      <td> 8.5</td>\n",
       "      <td> 3.28</td>\n",
       "    </tr>\n",
       "    <tr>\n",
       "      <th>2012-01-02 00:15:00</th>\n",
       "      <td> 8.5</td>\n",
       "      <td> 3.28</td>\n",
       "    </tr>\n",
       "    <tr>\n",
       "      <th>2012-01-02 00:30:00</th>\n",
       "      <td> 8.5</td>\n",
       "      <td> 3.28</td>\n",
       "    </tr>\n",
       "    <tr>\n",
       "      <th>2012-01-02 00:45:00</th>\n",
       "      <td> 8.5</td>\n",
       "      <td> 3.28</td>\n",
       "    </tr>\n",
       "    <tr>\n",
       "      <th>2012-01-02 01:00:00</th>\n",
       "      <td> 8.5</td>\n",
       "      <td> 3.28</td>\n",
       "    </tr>\n",
       "  </tbody>\n",
       "</table>\n",
       "</div>"
      ],
      "text/plain": [
       "                    River Discharge (cfs) Tunnel Discharge (cfs)\n",
       "2012-01-02 00:00:00                   8.5                   3.28\n",
       "2012-01-02 00:15:00                   8.5                   3.28\n",
       "2012-01-02 00:30:00                   8.5                   3.28\n",
       "2012-01-02 00:45:00                   8.5                   3.28\n",
       "2012-01-02 01:00:00                   8.5                   3.28"
      ]
     },
     "execution_count": 9,
     "metadata": {},
     "output_type": "execute_result"
    }
   ],
   "source": [
    "merged = pd.merge(riverdata.data, tunneldata.data, left_index=True, right_index=True)\n",
    "merged.head(5)"
   ]
  },
  {
   "cell_type": "code",
   "execution_count": 10,
   "metadata": {
    "collapsed": false
   },
   "outputs": [
    {
     "name": "stdout",
     "output_type": "stream",
     "text": [
      "test passed\n"
     ]
    }
   ],
   "source": [
    "\n",
    "# sanity check for accuracy:\n",
    "merged_point = merged.loc[\"2012-05-02 00:45:00\"]\n",
    "assert riverdata.data.loc[\"2012-05-02 00:45:00\"][\"River Discharge (cfs)\"] == merged_point[\"River Discharge (cfs)\"]\n",
    "assert tunneldata.data.loc[\"2012-05-02 00:45:00\"][\"Tunnel Discharge (cfs)\"] == merged_point[\"Tunnel Discharge (cfs)\"]\n",
    "print \"test passed\"\n"
   ]
  },
  {
   "cell_type": "code",
   "execution_count": 11,
   "metadata": {
    "collapsed": false
   },
   "outputs": [
    {
     "data": {
      "text/html": [
       "<div style=\"max-height:1000px;max-width:1500px;overflow:auto;\">\n",
       "<table border=\"1\" class=\"dataframe\">\n",
       "  <thead>\n",
       "    <tr style=\"text-align: right;\">\n",
       "      <th></th>\n",
       "      <th>River Discharge (cfs)</th>\n",
       "      <th>Tunnel Discharge (cfs)</th>\n",
       "      <th>Natural Flow (cfs)</th>\n",
       "    </tr>\n",
       "  </thead>\n",
       "  <tbody>\n",
       "    <tr>\n",
       "      <th>2012-01-02 00:00:00</th>\n",
       "      <td> 8.5</td>\n",
       "      <td> 3.28</td>\n",
       "      <td> 11.78</td>\n",
       "    </tr>\n",
       "    <tr>\n",
       "      <th>2012-01-02 00:15:00</th>\n",
       "      <td> 8.5</td>\n",
       "      <td> 3.28</td>\n",
       "      <td> 11.78</td>\n",
       "    </tr>\n",
       "    <tr>\n",
       "      <th>2012-01-02 00:30:00</th>\n",
       "      <td> 8.5</td>\n",
       "      <td> 3.28</td>\n",
       "      <td> 11.78</td>\n",
       "    </tr>\n",
       "    <tr>\n",
       "      <th>2012-01-02 00:45:00</th>\n",
       "      <td> 8.5</td>\n",
       "      <td> 3.28</td>\n",
       "      <td> 11.78</td>\n",
       "    </tr>\n",
       "    <tr>\n",
       "      <th>2012-01-02 01:00:00</th>\n",
       "      <td> 8.5</td>\n",
       "      <td> 3.28</td>\n",
       "      <td> 11.78</td>\n",
       "    </tr>\n",
       "  </tbody>\n",
       "</table>\n",
       "</div>"
      ],
      "text/plain": [
       "                     River Discharge (cfs)  Tunnel Discharge (cfs)  \\\n",
       "2012-01-02 00:00:00                    8.5                    3.28   \n",
       "2012-01-02 00:15:00                    8.5                    3.28   \n",
       "2012-01-02 00:30:00                    8.5                    3.28   \n",
       "2012-01-02 00:45:00                    8.5                    3.28   \n",
       "2012-01-02 01:00:00                    8.5                    3.28   \n",
       "\n",
       "                     Natural Flow (cfs)  \n",
       "2012-01-02 00:00:00               11.78  \n",
       "2012-01-02 00:15:00               11.78  \n",
       "2012-01-02 00:30:00               11.78  \n",
       "2012-01-02 00:45:00               11.78  \n",
       "2012-01-02 01:00:00               11.78  "
      ]
     },
     "execution_count": 11,
     "metadata": {},
     "output_type": "execute_result"
    }
   ],
   "source": [
    "## now we add river and tunnel discharge to acquire the \"natural\" flow without diversions\n",
    "\n",
    "merged[[\"River Discharge (cfs)\"]] = merged[[\"River Discharge (cfs)\"]].astype(float)\n",
    "## something strange happened, had to drop this row\n",
    "merged = merged.drop(\"2012-01-22 12:00:00\")\n",
    "merged[[\"Tunnel Discharge (cfs)\"]] = merged[[\"Tunnel Discharge (cfs)\"]].astype(float)\n",
    "\n",
    "merged[\"Natural Flow (cfs)\"] = merged.sum(axis=1)\n",
    "merged.head(5)"
   ]
  },
  {
   "cell_type": "markdown",
   "metadata": {},
   "source": [
    "Finally, all that remains is to plot the three datasets: the river discharge, tunnel discharge, and natural flow, on one plot."
   ]
  },
  {
   "cell_type": "code",
   "execution_count": 12,
   "metadata": {
    "collapsed": false
   },
   "outputs": [
    {
     "name": "stderr",
     "output_type": "stream",
     "text": [
      "/usr/local/lib/python2.7/site-packages/requests/packages/urllib3/util/ssl_.py:90: InsecurePlatformWarning:\n",
      "\n",
      "A true SSLContext object is not available. This prevents urllib3 from configuring SSL appropriately and may cause certain SSL connections to fail. For more information, see https://urllib3.readthedocs.org/en/latest/security.html#insecureplatformwarning.\n",
      "\n",
      "/usr/local/lib/python2.7/site-packages/plotly/plotly/plotly.py:1448: UserWarning:\n",
      "\n",
      "Estimated Draw Time Too Long\n",
      "\n"
     ]
    },
    {
     "name": "stdout",
     "output_type": "stream",
     "text": [
      "The draw time for this plot will be slow for all clients.\n"
     ]
    },
    {
     "data": {
      "text/html": [
       "<iframe id=\"igraph\" scrolling=\"no\" style=\"border:none;\"seamless=\"seamless\" src=\"https://plot.ly/~tony.cannistra/105.embed\" height=\"525px\" width=\"100%\"></iframe>"
      ],
      "text/plain": [
       "<plotly.tools.PlotlyDisplay object>"
      ]
     },
     "execution_count": 12,
     "metadata": {},
     "output_type": "execute_result"
    }
   ],
   "source": [
    "## Plot!\n",
    "\n",
    "rivertrace = graphobjs.Scatter(x = merged.index,\n",
    "                               y = merged[\"River Discharge (cfs)\"],\n",
    "                               name = \"River Discharge\")\n",
    "tunneltrace = graphobjs.Scatter(x = merged.index,\n",
    "                                y = merged[\"Tunnel Discharge (cfs)\"],\n",
    "                                name = \"Tunnel Discharge\")\n",
    "naturaltrace = graphobjs.Scatter(x = merged.index, \n",
    "                                 y = merged[\"Natural Flow (cfs)\"],\n",
    "                                 name = \"\\\"Natural\\\" Flow\",\n",
    "                                 fill = \"tonexty\")\n",
    "data = graphobjs.Data([rivertrace, tunneltrace, naturaltrace])\n",
    "\n",
    "layout = graphobjs.Layout(\n",
    "    title='Roaring Fork Diversion 2012',\n",
    "    yaxis=graphobjs.YAxis(\n",
    "        title='Discharge (cfs)',\n",
    "    )\n",
    ")\n",
    "\n",
    "figure = graphobjs.Figure(data=data, layout=layout)\n",
    "plot_url = py.iplot(figure, filename=\"Roaring Fork Diversion 2012\")\n",
    "plot_url"
   ]
  },
  {
   "cell_type": "code",
   "execution_count": 13,
   "metadata": {
    "collapsed": false
   },
   "outputs": [
    {
     "name": "stdout",
     "output_type": "stream",
     "text": [
      "If the plot above doesn't load, view it here:  https://plot.ly/~tony.cannistra/105\n"
     ]
    }
   ],
   "source": [
    "print \"If the plot above doesn't load, view it here: \", plot_url.resource"
   ]
  },
  {
   "cell_type": "markdown",
   "metadata": {
    "collapsed": true
   },
   "source": [
    "On the above plot it's possible to toggle the appearance of each line by clicking on its color in the legend at the top right. For example, turning off the tunnel discharge (orange) allows us to see the difference between the actual measured Roaring Fork flow rate and the flow rate expected without the diversion. Turning off the Tunnel Discharge highlights in light-green the area under the \"Natural Flow\" line, which is the difference between the two values."
   ]
  },
  {
   "cell_type": "markdown",
   "metadata": {},
   "source": [
    "## 2015 Diversion"
   ]
  },
  {
   "cell_type": "code",
   "execution_count": 14,
   "metadata": {
    "collapsed": false
   },
   "outputs": [
    {
     "data": {
      "text/html": [
       "<div style=\"max-height:1000px;max-width:1500px;overflow:auto;\">\n",
       "<table border=\"1\" class=\"dataframe\">\n",
       "  <thead>\n",
       "    <tr style=\"text-align: right;\">\n",
       "      <th></th>\n",
       "      <th>River Discharge (cfs)</th>\n",
       "    </tr>\n",
       "  </thead>\n",
       "  <tbody>\n",
       "    <tr>\n",
       "      <th>2015-05-01 00:00:00</th>\n",
       "      <td> 51</td>\n",
       "    </tr>\n",
       "    <tr>\n",
       "      <th>2015-05-01 00:15:00</th>\n",
       "      <td> 51</td>\n",
       "    </tr>\n",
       "    <tr>\n",
       "      <th>2015-05-01 00:30:00</th>\n",
       "      <td> 51</td>\n",
       "    </tr>\n",
       "    <tr>\n",
       "      <th>2015-05-01 00:45:00</th>\n",
       "      <td> 51</td>\n",
       "    </tr>\n",
       "    <tr>\n",
       "      <th>2015-05-01 01:00:00</th>\n",
       "      <td> 51</td>\n",
       "    </tr>\n",
       "  </tbody>\n",
       "</table>\n",
       "</div>"
      ],
      "text/plain": [
       "                    River Discharge (cfs)\n",
       "2015-05-01 00:00:00                    51\n",
       "2015-05-01 00:15:00                    51\n",
       "2015-05-01 00:30:00                    51\n",
       "2015-05-01 00:45:00                    51\n",
       "2015-05-01 01:00:00                    51"
      ]
     },
     "execution_count": 14,
     "metadata": {},
     "output_type": "execute_result"
    }
   ],
   "source": [
    "import dataparsers\n",
    "river2015 = dataparsers.WaterData(\"data/2015/roaring_at_difficult_2015.txt\")\n",
    "river2015.remove_columns([\"agency_cd\", \"site_no\", \"tz_cd\", \"01_00060_cd\", \"03_00065\", \"03_00065_cd\"])\n",
    "river2015.drop_row(0)\n",
    "river2015.data.columns.values[1] = \"River Discharge (cfs)\"\n",
    "river2015.reindex(\"datetime\")\n",
    "river2015.data.head()"
   ]
  },
  {
   "cell_type": "code",
   "execution_count": 15,
   "metadata": {
    "collapsed": false
   },
   "outputs": [
    {
     "data": {
      "text/html": [
       "<div style=\"max-height:1000px;max-width:1500px;overflow:auto;\">\n",
       "<table border=\"1\" class=\"dataframe\">\n",
       "  <thead>\n",
       "    <tr style=\"text-align: right;\">\n",
       "      <th></th>\n",
       "      <th>Tunnel Discharge (cfs)</th>\n",
       "    </tr>\n",
       "  </thead>\n",
       "  <tbody>\n",
       "    <tr>\n",
       "      <th>2015-05-01 00:00:00</th>\n",
       "      <td> 59.3</td>\n",
       "    </tr>\n",
       "    <tr>\n",
       "      <th>2015-05-01 00:15:00</th>\n",
       "      <td> 59.3</td>\n",
       "    </tr>\n",
       "    <tr>\n",
       "      <th>2015-05-01 00:30:00</th>\n",
       "      <td> 59.3</td>\n",
       "    </tr>\n",
       "    <tr>\n",
       "      <th>2015-05-01 00:45:00</th>\n",
       "      <td> 59.3</td>\n",
       "    </tr>\n",
       "    <tr>\n",
       "      <th>2015-05-01 01:00:00</th>\n",
       "      <td> 59.3</td>\n",
       "    </tr>\n",
       "  </tbody>\n",
       "</table>\n",
       "</div>"
      ],
      "text/plain": [
       "                     Tunnel Discharge (cfs)\n",
       "2015-05-01 00:00:00                    59.3\n",
       "2015-05-01 00:15:00                    59.3\n",
       "2015-05-01 00:30:00                    59.3\n",
       "2015-05-01 00:45:00                    59.3\n",
       "2015-05-01 01:00:00                    59.3"
      ]
     },
     "execution_count": 15,
     "metadata": {},
     "output_type": "execute_result"
    }
   ],
   "source": [
    "tunnel2015 = dataparsers.WaterData(\"data/2015/TWITUNCO_82715111916.txt\")\n",
    "tunnel2015.remove_columns([\"Station\", \"DISCHRG (cfs) (cfs)\", \"GAGE_HT (ft) (ft)\", \"GH_ADVM (ft) (ft)\", \"PRECIP (inches) (NA)\", \"VEL_ADVM (ft/sec) (ft/sec)\"])\n",
    "tunnel2015.data.columns.values[1] = \"Tunnel Discharge (cfs)\"\n",
    "tunnel2015.reindex(\"Date/Time\")\n",
    "tunnel2015.data.head()"
   ]
  },
  {
   "cell_type": "code",
   "execution_count": 16,
   "metadata": {
    "collapsed": false
   },
   "outputs": [
    {
     "data": {
      "text/html": [
       "<div style=\"max-height:1000px;max-width:1500px;overflow:auto;\">\n",
       "<table border=\"1\" class=\"dataframe\">\n",
       "  <thead>\n",
       "    <tr style=\"text-align: right;\">\n",
       "      <th></th>\n",
       "      <th>River Discharge (cfs)</th>\n",
       "      <th>Tunnel Discharge (cfs)</th>\n",
       "    </tr>\n",
       "  </thead>\n",
       "  <tbody>\n",
       "    <tr>\n",
       "      <th>2015-05-01 00:00:00</th>\n",
       "      <td> 51</td>\n",
       "      <td> 59.3</td>\n",
       "    </tr>\n",
       "    <tr>\n",
       "      <th>2015-05-01 00:15:00</th>\n",
       "      <td> 51</td>\n",
       "      <td> 59.3</td>\n",
       "    </tr>\n",
       "    <tr>\n",
       "      <th>2015-05-01 00:30:00</th>\n",
       "      <td> 51</td>\n",
       "      <td> 59.3</td>\n",
       "    </tr>\n",
       "    <tr>\n",
       "      <th>2015-05-01 00:45:00</th>\n",
       "      <td> 51</td>\n",
       "      <td> 59.3</td>\n",
       "    </tr>\n",
       "    <tr>\n",
       "      <th>2015-05-01 01:00:00</th>\n",
       "      <td> 51</td>\n",
       "      <td> 59.3</td>\n",
       "    </tr>\n",
       "  </tbody>\n",
       "</table>\n",
       "</div>"
      ],
      "text/plain": [
       "                    River Discharge (cfs)  Tunnel Discharge (cfs)\n",
       "2015-05-01 00:00:00                    51                    59.3\n",
       "2015-05-01 00:15:00                    51                    59.3\n",
       "2015-05-01 00:30:00                    51                    59.3\n",
       "2015-05-01 00:45:00                    51                    59.3\n",
       "2015-05-01 01:00:00                    51                    59.3"
      ]
     },
     "execution_count": 16,
     "metadata": {},
     "output_type": "execute_result"
    }
   ],
   "source": [
    "merged = pd.merge(river2015.data, tunnel2015.data, left_index=True, right_index=True)\n",
    "merged.head(5)"
   ]
  },
  {
   "cell_type": "code",
   "execution_count": 17,
   "metadata": {
    "collapsed": false
   },
   "outputs": [
    {
     "data": {
      "text/html": [
       "<div style=\"max-height:1000px;max-width:1500px;overflow:auto;\">\n",
       "<table border=\"1\" class=\"dataframe\">\n",
       "  <thead>\n",
       "    <tr style=\"text-align: right;\">\n",
       "      <th></th>\n",
       "      <th>River Discharge (cfs)</th>\n",
       "      <th>Tunnel Discharge (cfs)</th>\n",
       "      <th>Natural Flow (cfs)</th>\n",
       "    </tr>\n",
       "  </thead>\n",
       "  <tbody>\n",
       "    <tr>\n",
       "      <th>2015-05-01 00:00:00</th>\n",
       "      <td> 51</td>\n",
       "      <td> 59.3</td>\n",
       "      <td> 110.3</td>\n",
       "    </tr>\n",
       "    <tr>\n",
       "      <th>2015-05-01 00:15:00</th>\n",
       "      <td> 51</td>\n",
       "      <td> 59.3</td>\n",
       "      <td> 110.3</td>\n",
       "    </tr>\n",
       "    <tr>\n",
       "      <th>2015-05-01 00:30:00</th>\n",
       "      <td> 51</td>\n",
       "      <td> 59.3</td>\n",
       "      <td> 110.3</td>\n",
       "    </tr>\n",
       "    <tr>\n",
       "      <th>2015-05-01 00:45:00</th>\n",
       "      <td> 51</td>\n",
       "      <td> 59.3</td>\n",
       "      <td> 110.3</td>\n",
       "    </tr>\n",
       "    <tr>\n",
       "      <th>2015-05-01 01:00:00</th>\n",
       "      <td> 51</td>\n",
       "      <td> 59.3</td>\n",
       "      <td> 110.3</td>\n",
       "    </tr>\n",
       "  </tbody>\n",
       "</table>\n",
       "</div>"
      ],
      "text/plain": [
       "                     River Discharge (cfs)  Tunnel Discharge (cfs)  \\\n",
       "2015-05-01 00:00:00                     51                    59.3   \n",
       "2015-05-01 00:15:00                     51                    59.3   \n",
       "2015-05-01 00:30:00                     51                    59.3   \n",
       "2015-05-01 00:45:00                     51                    59.3   \n",
       "2015-05-01 01:00:00                     51                    59.3   \n",
       "\n",
       "                     Natural Flow (cfs)  \n",
       "2015-05-01 00:00:00               110.3  \n",
       "2015-05-01 00:15:00               110.3  \n",
       "2015-05-01 00:30:00               110.3  \n",
       "2015-05-01 00:45:00               110.3  \n",
       "2015-05-01 01:00:00               110.3  "
      ]
     },
     "execution_count": 17,
     "metadata": {},
     "output_type": "execute_result"
    }
   ],
   "source": [
    "merged[[\"River Discharge (cfs)\"]] = merged[[\"River Discharge (cfs)\"]].astype(float)\n",
    "## something strange happened, had to drop this row\n",
    "merged[[\"Tunnel Discharge (cfs)\"]] = merged[[\"Tunnel Discharge (cfs)\"]].astype(float)\n",
    "\n",
    "merged[\"Natural Flow (cfs)\"] = merged.sum(axis=1)\n",
    "merged.head(5)"
   ]
  },
  {
   "cell_type": "code",
   "execution_count": 18,
   "metadata": {
    "collapsed": false
   },
   "outputs": [
    {
     "name": "stderr",
     "output_type": "stream",
     "text": [
      "/usr/local/lib/python2.7/site-packages/requests/packages/urllib3/util/ssl_.py:90: InsecurePlatformWarning:\n",
      "\n",
      "A true SSLContext object is not available. This prevents urllib3 from configuring SSL appropriately and may cause certain SSL connections to fail. For more information, see https://urllib3.readthedocs.org/en/latest/security.html#insecureplatformwarning.\n",
      "\n",
      "/usr/local/lib/python2.7/site-packages/plotly/plotly/plotly.py:1448: UserWarning:\n",
      "\n",
      "Estimated Draw Time Slow\n",
      "\n"
     ]
    },
    {
     "name": "stdout",
     "output_type": "stream",
     "text": [
      "The draw time for this plot will be slow for clients without much RAM.\n"
     ]
    },
    {
     "data": {
      "text/html": [
       "<iframe id=\"igraph\" scrolling=\"no\" style=\"border:none;\"seamless=\"seamless\" src=\"https://plot.ly/~tony.cannistra/105.embed\" height=\"525px\" width=\"100%\"></iframe>"
      ],
      "text/plain": [
       "<plotly.tools.PlotlyDisplay object>"
      ]
     },
     "execution_count": 18,
     "metadata": {},
     "output_type": "execute_result"
    }
   ],
   "source": [
    "## Plot!\n",
    "\n",
    "rivertrace = graphobjs.Scatter(x = merged.index,\n",
    "                               y = merged[\"River Discharge (cfs)\"],\n",
    "                               name = \"River Discharge\")\n",
    "tunneltrace = graphobjs.Scatter(x = merged.index,\n",
    "                                y = merged[\"Tunnel Discharge (cfs)\"],\n",
    "                                name = \"Tunnel Discharge\")\n",
    "naturaltrace = graphobjs.Scatter(x = merged.index, \n",
    "                                 y = merged[\"Natural Flow (cfs)\"],\n",
    "                                 name = \"\\\"Natural\\\" Flow\",\n",
    "                                 fill = \"tonexty\")\n",
    "data = graphobjs.Data([rivertrace, tunneltrace, naturaltrace])\n",
    "\n",
    "layout = graphobjs.Layout(\n",
    "    title='Roaring Fork Diversion 2015',\n",
    "    yaxis=graphobjs.YAxis(\n",
    "        title='Discharge (cfs)',\n",
    "    )\n",
    ")\n",
    "\n",
    "figure = graphobjs.Figure(data=data, layout=layout)\n",
    "plot_url = py.iplot(figure, filename=\"Roaring Fork Diversion 2012\")\n",
    "plot_url"
   ]
  },
  {
   "cell_type": "markdown",
   "metadata": {},
   "source": [
    "## 2008 Diversion"
   ]
  },
  {
   "cell_type": "code",
   "execution_count": 19,
   "metadata": {
    "collapsed": false
   },
   "outputs": [
    {
     "data": {
      "text/html": [
       "<div style=\"max-height:1000px;max-width:1500px;overflow:auto;\">\n",
       "<table border=\"1\" class=\"dataframe\">\n",
       "  <thead>\n",
       "    <tr style=\"text-align: right;\">\n",
       "      <th></th>\n",
       "      <th>River Discharge (cfs)</th>\n",
       "    </tr>\n",
       "  </thead>\n",
       "  <tbody>\n",
       "    <tr>\n",
       "      <th>2008-01-02 00:00:00</th>\n",
       "      <td> 13</td>\n",
       "    </tr>\n",
       "    <tr>\n",
       "      <th>2008-01-02 00:15:00</th>\n",
       "      <td> 13</td>\n",
       "    </tr>\n",
       "    <tr>\n",
       "      <th>2008-01-02 00:30:00</th>\n",
       "      <td> 13</td>\n",
       "    </tr>\n",
       "    <tr>\n",
       "      <th>2008-01-02 00:45:00</th>\n",
       "      <td> 13</td>\n",
       "    </tr>\n",
       "    <tr>\n",
       "      <th>2008-01-02 01:00:00</th>\n",
       "      <td> 13</td>\n",
       "    </tr>\n",
       "  </tbody>\n",
       "</table>\n",
       "</div>"
      ],
      "text/plain": [
       "                     River Discharge (cfs)\n",
       "2008-01-02 00:00:00                     13\n",
       "2008-01-02 00:15:00                     13\n",
       "2008-01-02 00:30:00                     13\n",
       "2008-01-02 00:45:00                     13\n",
       "2008-01-02 01:00:00                     13"
      ]
     },
     "execution_count": 19,
     "metadata": {},
     "output_type": "execute_result"
    }
   ],
   "source": [
    "import dataparsers\n",
    "import pandas as pd\n",
    "\n",
    "riverdata = dataparsers.WaterData(\"data/2008/roaring_fork_2008.txt\")\n",
    "riverdata.remove_columns([\"site_no\", \"agency_cd\", \"tz_cd\", \"01_00060_cd\"])\n",
    "riverdata.data.columns.values[1] = \"River Discharge (cfs)\"\n",
    "riverdata.reindex(\"datetime\")\n",
    "riverdata.data.head()\n"
   ]
  },
  {
   "cell_type": "code",
   "execution_count": 20,
   "metadata": {
    "collapsed": false
   },
   "outputs": [
    {
     "data": {
      "text/html": [
       "<div style=\"max-height:1000px;max-width:1500px;overflow:auto;\">\n",
       "<table border=\"1\" class=\"dataframe\">\n",
       "  <thead>\n",
       "    <tr style=\"text-align: right;\">\n",
       "      <th></th>\n",
       "      <th>Tunnel Discharge (cfs)</th>\n",
       "    </tr>\n",
       "  </thead>\n",
       "  <tbody>\n",
       "    <tr>\n",
       "      <th>2008-01-01 00:00:00</th>\n",
       "      <td> 18.5</td>\n",
       "    </tr>\n",
       "    <tr>\n",
       "      <th>2008-01-01 00:15:00</th>\n",
       "      <td> 18.5</td>\n",
       "    </tr>\n",
       "    <tr>\n",
       "      <th>2008-01-01 00:30:00</th>\n",
       "      <td> 18.5</td>\n",
       "    </tr>\n",
       "    <tr>\n",
       "      <th>2008-01-01 00:45:00</th>\n",
       "      <td> 18.5</td>\n",
       "    </tr>\n",
       "    <tr>\n",
       "      <th>2008-01-01 01:00:00</th>\n",
       "      <td> 18.5</td>\n",
       "    </tr>\n",
       "  </tbody>\n",
       "</table>\n",
       "</div>"
      ],
      "text/plain": [
       "                     Tunnel Discharge (cfs)\n",
       "2008-01-01 00:00:00                    18.5\n",
       "2008-01-01 00:15:00                    18.5\n",
       "2008-01-01 00:30:00                    18.5\n",
       "2008-01-01 00:45:00                    18.5\n",
       "2008-01-01 01:00:00                    18.5"
      ]
     },
     "execution_count": 20,
     "metadata": {},
     "output_type": "execute_result"
    }
   ],
   "source": [
    "tunneldata = dataparsers.WaterData(\"data/2008/TWITUNCO_90515064855.txt\")\n",
    "tunneldata.remove_columns([\"Station\", \"DISCHRG (cfs) (cfs)\"])\n",
    "tunneldata.data.columns.values[1] = \"Tunnel Discharge (cfs)\"\n",
    "tunneldata.reindex(\"Date/Time\")\n",
    "tunneldata.data.head()"
   ]
  },
  {
   "cell_type": "code",
   "execution_count": 21,
   "metadata": {
    "collapsed": false
   },
   "outputs": [
    {
     "data": {
      "text/html": [
       "<div style=\"max-height:1000px;max-width:1500px;overflow:auto;\">\n",
       "<table border=\"1\" class=\"dataframe\">\n",
       "  <thead>\n",
       "    <tr style=\"text-align: right;\">\n",
       "      <th></th>\n",
       "      <th>Tunnel Discharge (cfs)</th>\n",
       "      <th>River Discharge (cfs)</th>\n",
       "    </tr>\n",
       "  </thead>\n",
       "  <tbody>\n",
       "    <tr>\n",
       "      <th>2008-01-02 00:00:00</th>\n",
       "      <td> 3.56</td>\n",
       "      <td> 13</td>\n",
       "    </tr>\n",
       "    <tr>\n",
       "      <th>2008-01-02 00:15:00</th>\n",
       "      <td> 3.56</td>\n",
       "      <td> 13</td>\n",
       "    </tr>\n",
       "    <tr>\n",
       "      <th>2008-01-02 00:30:00</th>\n",
       "      <td> 3.56</td>\n",
       "      <td> 13</td>\n",
       "    </tr>\n",
       "    <tr>\n",
       "      <th>2008-01-02 00:45:00</th>\n",
       "      <td> 3.56</td>\n",
       "      <td> 13</td>\n",
       "    </tr>\n",
       "    <tr>\n",
       "      <th>2008-01-02 01:00:00</th>\n",
       "      <td> 3.56</td>\n",
       "      <td> 13</td>\n",
       "    </tr>\n",
       "  </tbody>\n",
       "</table>\n",
       "</div>"
      ],
      "text/plain": [
       "                     Tunnel Discharge (cfs)  River Discharge (cfs)\n",
       "2008-01-02 00:00:00                    3.56                     13\n",
       "2008-01-02 00:15:00                    3.56                     13\n",
       "2008-01-02 00:30:00                    3.56                     13\n",
       "2008-01-02 00:45:00                    3.56                     13\n",
       "2008-01-02 01:00:00                    3.56                     13"
      ]
     },
     "execution_count": 21,
     "metadata": {},
     "output_type": "execute_result"
    }
   ],
   "source": [
    "merged = pd.merge(tunneldata.data, riverdata.data, left_index=True, right_index=True)\n",
    "merged.head(5)"
   ]
  },
  {
   "cell_type": "code",
   "execution_count": 22,
   "metadata": {
    "collapsed": false
   },
   "outputs": [
    {
     "data": {
      "text/html": [
       "<div style=\"max-height:1000px;max-width:1500px;overflow:auto;\">\n",
       "<table border=\"1\" class=\"dataframe\">\n",
       "  <thead>\n",
       "    <tr style=\"text-align: right;\">\n",
       "      <th></th>\n",
       "      <th>Tunnel Discharge (cfs)</th>\n",
       "      <th>River Discharge (cfs)</th>\n",
       "      <th>Natural Flow (cfs)</th>\n",
       "    </tr>\n",
       "  </thead>\n",
       "  <tbody>\n",
       "    <tr>\n",
       "      <th>2008-01-02 00:00:00</th>\n",
       "      <td> 3.56</td>\n",
       "      <td> 13</td>\n",
       "      <td> 16.56</td>\n",
       "    </tr>\n",
       "    <tr>\n",
       "      <th>2008-01-02 00:15:00</th>\n",
       "      <td> 3.56</td>\n",
       "      <td> 13</td>\n",
       "      <td> 16.56</td>\n",
       "    </tr>\n",
       "    <tr>\n",
       "      <th>2008-01-02 00:30:00</th>\n",
       "      <td> 3.56</td>\n",
       "      <td> 13</td>\n",
       "      <td> 16.56</td>\n",
       "    </tr>\n",
       "    <tr>\n",
       "      <th>2008-01-02 00:45:00</th>\n",
       "      <td> 3.56</td>\n",
       "      <td> 13</td>\n",
       "      <td> 16.56</td>\n",
       "    </tr>\n",
       "    <tr>\n",
       "      <th>2008-01-02 01:00:00</th>\n",
       "      <td> 3.56</td>\n",
       "      <td> 13</td>\n",
       "      <td> 16.56</td>\n",
       "    </tr>\n",
       "  </tbody>\n",
       "</table>\n",
       "</div>"
      ],
      "text/plain": [
       "                     Tunnel Discharge (cfs)  River Discharge (cfs)  \\\n",
       "2008-01-02 00:00:00                    3.56                     13   \n",
       "2008-01-02 00:15:00                    3.56                     13   \n",
       "2008-01-02 00:30:00                    3.56                     13   \n",
       "2008-01-02 00:45:00                    3.56                     13   \n",
       "2008-01-02 01:00:00                    3.56                     13   \n",
       "\n",
       "                     Natural Flow (cfs)  \n",
       "2008-01-02 00:00:00               16.56  \n",
       "2008-01-02 00:15:00               16.56  \n",
       "2008-01-02 00:30:00               16.56  \n",
       "2008-01-02 00:45:00               16.56  \n",
       "2008-01-02 01:00:00               16.56  "
      ]
     },
     "execution_count": 22,
     "metadata": {},
     "output_type": "execute_result"
    }
   ],
   "source": [
    "merged[[\"River Discharge (cfs)\"]] = merged[[\"River Discharge (cfs)\"]].astype(float)\n",
    "## something strange happened, had to drop this row\n",
    "merged[[\"Tunnel Discharge (cfs)\"]] = merged[[\"Tunnel Discharge (cfs)\"]].astype(float)\n",
    "\n",
    "merged[\"Natural Flow (cfs)\"] = merged.sum(axis=1)\n",
    "merged.head(5)"
   ]
  },
  {
   "cell_type": "code",
   "execution_count": 23,
   "metadata": {
    "collapsed": false
   },
   "outputs": [
    {
     "name": "stdout",
     "output_type": "stream",
     "text": [
      "The draw time for this plot will be slow for all clients.\n"
     ]
    },
    {
     "name": "stderr",
     "output_type": "stream",
     "text": [
      "/usr/local/lib/python2.7/site-packages/requests/packages/urllib3/util/ssl_.py:90: InsecurePlatformWarning:\n",
      "\n",
      "A true SSLContext object is not available. This prevents urllib3 from configuring SSL appropriately and may cause certain SSL connections to fail. For more information, see https://urllib3.readthedocs.org/en/latest/security.html#insecureplatformwarning.\n",
      "\n"
     ]
    },
    {
     "data": {
      "text/html": [
       "<iframe id=\"igraph\" scrolling=\"no\" style=\"border:none;\"seamless=\"seamless\" src=\"https://plot.ly/~tony.cannistra/123.embed\" height=\"525px\" width=\"100%\"></iframe>"
      ],
      "text/plain": [
       "<plotly.tools.PlotlyDisplay object>"
      ]
     },
     "execution_count": 23,
     "metadata": {},
     "output_type": "execute_result"
    }
   ],
   "source": [
    "rivertrace = graphobjs.Scatter(x = merged.index,\n",
    "                               y = merged[\"River Discharge (cfs)\"],\n",
    "                               name = \"River Discharge\")\n",
    "tunneltrace = graphobjs.Scatter(x = merged.index,\n",
    "                                y = merged[\"Tunnel Discharge (cfs)\"],\n",
    "                                name = \"Tunnel Discharge\")\n",
    "naturaltrace = graphobjs.Scatter(x = merged.index, \n",
    "                                 y = merged[\"Natural Flow (cfs)\"],\n",
    "                                 name = \"\\\"Natural\\\" Flow\",\n",
    "                                 fill = \"tonexty\")\n",
    "data = graphobjs.Data([rivertrace, tunneltrace, naturaltrace])\n",
    "\n",
    "layout = graphobjs.Layout(\n",
    "    title='Roaring Fork Diversion 2008',\n",
    "    yaxis=graphobjs.YAxis(\n",
    "        title='Discharge (cfs)',\n",
    "    )\n",
    ")\n",
    "\n",
    "figure = graphobjs.Figure(data=data, layout=layout)\n",
    "plot_url = py.iplot(figure, filename=\"Roaring Fork Diversion 2008\")\n",
    "plot_url"
   ]
  },
  {
   "cell_type": "code",
   "execution_count": null,
   "metadata": {
    "collapsed": true
   },
   "outputs": [],
   "source": []
  }
 ],
 "metadata": {
  "kernelspec": {
   "display_name": "Python 2",
   "language": "python",
   "name": "python2"
  },
  "language_info": {
   "codemirror_mode": {
    "name": "ipython",
    "version": 2
   },
   "file_extension": ".py",
   "mimetype": "text/x-python",
   "name": "python",
   "nbconvert_exporter": "python",
   "pygments_lexer": "ipython2",
   "version": "2.7.8"
  }
 },
 "nbformat": 4,
 "nbformat_minor": 0
}
